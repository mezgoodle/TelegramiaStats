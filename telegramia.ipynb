{
  "nbformat": 4,
  "nbformat_minor": 0,
  "metadata": {
    "colab": {
      "name": "telegramia.ipynb",
      "provenance": [],
      "authorship_tag": "ABX9TyNxPHxQnxLriTgTEuEPzTGo",
      "include_colab_link": true
    },
    "kernelspec": {
      "name": "python3",
      "display_name": "Python 3"
    },
    "language_info": {
      "name": "python"
    }
  },
  "cells": [
    {
      "cell_type": "markdown",
      "metadata": {
        "id": "view-in-github",
        "colab_type": "text"
      },
      "source": [
        "<a href=\"https://colab.research.google.com/github/mezgoodle/TelegramiaStats/blob/master/telegramia.ipynb\" target=\"_parent\"><img src=\"https://colab.research.google.com/assets/colab-badge.svg\" alt=\"Open In Colab\"/></a>"
      ]
    },
    {
      "cell_type": "code",
      "execution_count": 40,
      "metadata": {
        "id": "EYp18FcQW6ua"
      },
      "outputs": [],
      "source": [
        "import numpy as np\n",
        "import pandas as pd\n",
        "import seaborn as sns"
      ]
    },
    {
      "cell_type": "markdown",
      "source": [
        "# Players"
      ],
      "metadata": {
        "id": "86pf0wFVg1Eo"
      }
    },
    {
      "cell_type": "markdown",
      "source": [
        "## Getting the data"
      ],
      "metadata": {
        "id": "i1l6MX42g5dN"
      }
    },
    {
      "cell_type": "code",
      "source": [
        "df = pd.read_json('https://telegramia-api.herokuapp.com/players')"
      ],
      "metadata": {
        "id": "ciMP0bUmXlVe"
      },
      "execution_count": 41,
      "outputs": []
    },
    {
      "cell_type": "code",
      "source": [
        "df.head()"
      ],
      "metadata": {
        "id": "FFXihhCehYxG",
        "outputId": "6ad5c72a-2178-4acc-c5f0-716c119edc62",
        "colab": {
          "base_uri": "https://localhost:8080/",
          "height": 246
        }
      },
      "execution_count": 42,
      "outputs": [
        {
          "output_type": "execute_result",
          "data": {
            "text/plain": [
              "                        _id    user_id telegram_name      name  level  \\\n",
              "0  610e513b7250b75616ed056d  353057906      sylvenis  Sylvenis     32   \n",
              "1  623ed5663eb807f0ddba2bd3   34344334     mezgoodle  Jane Doe      3   \n",
              "\n",
              "   experience   health  energy  strength  agility  intuition  intelligence  \\\n",
              "0    0.886508   61.482   221.1      10.0      5.0        5.0            15   \n",
              "1   45.000000  100.000    30.0      11.4      3.2       55.1            34   \n",
              "\n",
              "  hero_class   nation       money                  items  \\\n",
              "0       Воїн  Пріаріа  210065.741        [Wood helmet 2]   \n",
              "1    paladin  Priaria     123.650  [wood shield, helmet]   \n",
              "\n",
              "                                               mount current_state  \n",
              "0  {'_id': '61f7b9765bcacf5d94ddd52e', 'name': 'К...      Брісвель  \n",
              "1      {'name': 'Bob', 'type': 'horse', 'bonus': 12}     Stormwind  "
            ],
            "text/html": [
              "\n",
              "  <div id=\"df-f40138b9-cc45-475b-b43d-56b36fd5c00c\">\n",
              "    <div class=\"colab-df-container\">\n",
              "      <div>\n",
              "<style scoped>\n",
              "    .dataframe tbody tr th:only-of-type {\n",
              "        vertical-align: middle;\n",
              "    }\n",
              "\n",
              "    .dataframe tbody tr th {\n",
              "        vertical-align: top;\n",
              "    }\n",
              "\n",
              "    .dataframe thead th {\n",
              "        text-align: right;\n",
              "    }\n",
              "</style>\n",
              "<table border=\"1\" class=\"dataframe\">\n",
              "  <thead>\n",
              "    <tr style=\"text-align: right;\">\n",
              "      <th></th>\n",
              "      <th>_id</th>\n",
              "      <th>user_id</th>\n",
              "      <th>telegram_name</th>\n",
              "      <th>name</th>\n",
              "      <th>level</th>\n",
              "      <th>experience</th>\n",
              "      <th>health</th>\n",
              "      <th>energy</th>\n",
              "      <th>strength</th>\n",
              "      <th>agility</th>\n",
              "      <th>intuition</th>\n",
              "      <th>intelligence</th>\n",
              "      <th>hero_class</th>\n",
              "      <th>nation</th>\n",
              "      <th>money</th>\n",
              "      <th>items</th>\n",
              "      <th>mount</th>\n",
              "      <th>current_state</th>\n",
              "    </tr>\n",
              "  </thead>\n",
              "  <tbody>\n",
              "    <tr>\n",
              "      <th>0</th>\n",
              "      <td>610e513b7250b75616ed056d</td>\n",
              "      <td>353057906</td>\n",
              "      <td>sylvenis</td>\n",
              "      <td>Sylvenis</td>\n",
              "      <td>32</td>\n",
              "      <td>0.886508</td>\n",
              "      <td>61.482</td>\n",
              "      <td>221.1</td>\n",
              "      <td>10.0</td>\n",
              "      <td>5.0</td>\n",
              "      <td>5.0</td>\n",
              "      <td>15</td>\n",
              "      <td>Воїн</td>\n",
              "      <td>Пріаріа</td>\n",
              "      <td>210065.741</td>\n",
              "      <td>[Wood helmet 2]</td>\n",
              "      <td>{'_id': '61f7b9765bcacf5d94ddd52e', 'name': 'К...</td>\n",
              "      <td>Брісвель</td>\n",
              "    </tr>\n",
              "    <tr>\n",
              "      <th>1</th>\n",
              "      <td>623ed5663eb807f0ddba2bd3</td>\n",
              "      <td>34344334</td>\n",
              "      <td>mezgoodle</td>\n",
              "      <td>Jane Doe</td>\n",
              "      <td>3</td>\n",
              "      <td>45.000000</td>\n",
              "      <td>100.000</td>\n",
              "      <td>30.0</td>\n",
              "      <td>11.4</td>\n",
              "      <td>3.2</td>\n",
              "      <td>55.1</td>\n",
              "      <td>34</td>\n",
              "      <td>paladin</td>\n",
              "      <td>Priaria</td>\n",
              "      <td>123.650</td>\n",
              "      <td>[wood shield, helmet]</td>\n",
              "      <td>{'name': 'Bob', 'type': 'horse', 'bonus': 12}</td>\n",
              "      <td>Stormwind</td>\n",
              "    </tr>\n",
              "  </tbody>\n",
              "</table>\n",
              "</div>\n",
              "      <button class=\"colab-df-convert\" onclick=\"convertToInteractive('df-f40138b9-cc45-475b-b43d-56b36fd5c00c')\"\n",
              "              title=\"Convert this dataframe to an interactive table.\"\n",
              "              style=\"display:none;\">\n",
              "        \n",
              "  <svg xmlns=\"http://www.w3.org/2000/svg\" height=\"24px\"viewBox=\"0 0 24 24\"\n",
              "       width=\"24px\">\n",
              "    <path d=\"M0 0h24v24H0V0z\" fill=\"none\"/>\n",
              "    <path d=\"M18.56 5.44l.94 2.06.94-2.06 2.06-.94-2.06-.94-.94-2.06-.94 2.06-2.06.94zm-11 1L8.5 8.5l.94-2.06 2.06-.94-2.06-.94L8.5 2.5l-.94 2.06-2.06.94zm10 10l.94 2.06.94-2.06 2.06-.94-2.06-.94-.94-2.06-.94 2.06-2.06.94z\"/><path d=\"M17.41 7.96l-1.37-1.37c-.4-.4-.92-.59-1.43-.59-.52 0-1.04.2-1.43.59L10.3 9.45l-7.72 7.72c-.78.78-.78 2.05 0 2.83L4 21.41c.39.39.9.59 1.41.59.51 0 1.02-.2 1.41-.59l7.78-7.78 2.81-2.81c.8-.78.8-2.07 0-2.86zM5.41 20L4 18.59l7.72-7.72 1.47 1.35L5.41 20z\"/>\n",
              "  </svg>\n",
              "      </button>\n",
              "      \n",
              "  <style>\n",
              "    .colab-df-container {\n",
              "      display:flex;\n",
              "      flex-wrap:wrap;\n",
              "      gap: 12px;\n",
              "    }\n",
              "\n",
              "    .colab-df-convert {\n",
              "      background-color: #E8F0FE;\n",
              "      border: none;\n",
              "      border-radius: 50%;\n",
              "      cursor: pointer;\n",
              "      display: none;\n",
              "      fill: #1967D2;\n",
              "      height: 32px;\n",
              "      padding: 0 0 0 0;\n",
              "      width: 32px;\n",
              "    }\n",
              "\n",
              "    .colab-df-convert:hover {\n",
              "      background-color: #E2EBFA;\n",
              "      box-shadow: 0px 1px 2px rgba(60, 64, 67, 0.3), 0px 1px 3px 1px rgba(60, 64, 67, 0.15);\n",
              "      fill: #174EA6;\n",
              "    }\n",
              "\n",
              "    [theme=dark] .colab-df-convert {\n",
              "      background-color: #3B4455;\n",
              "      fill: #D2E3FC;\n",
              "    }\n",
              "\n",
              "    [theme=dark] .colab-df-convert:hover {\n",
              "      background-color: #434B5C;\n",
              "      box-shadow: 0px 1px 3px 1px rgba(0, 0, 0, 0.15);\n",
              "      filter: drop-shadow(0px 1px 2px rgba(0, 0, 0, 0.3));\n",
              "      fill: #FFFFFF;\n",
              "    }\n",
              "  </style>\n",
              "\n",
              "      <script>\n",
              "        const buttonEl =\n",
              "          document.querySelector('#df-f40138b9-cc45-475b-b43d-56b36fd5c00c button.colab-df-convert');\n",
              "        buttonEl.style.display =\n",
              "          google.colab.kernel.accessAllowed ? 'block' : 'none';\n",
              "\n",
              "        async function convertToInteractive(key) {\n",
              "          const element = document.querySelector('#df-f40138b9-cc45-475b-b43d-56b36fd5c00c');\n",
              "          const dataTable =\n",
              "            await google.colab.kernel.invokeFunction('convertToInteractive',\n",
              "                                                     [key], {});\n",
              "          if (!dataTable) return;\n",
              "\n",
              "          const docLinkHtml = 'Like what you see? Visit the ' +\n",
              "            '<a target=\"_blank\" href=https://colab.research.google.com/notebooks/data_table.ipynb>data table notebook</a>'\n",
              "            + ' to learn more about interactive tables.';\n",
              "          element.innerHTML = '';\n",
              "          dataTable['output_type'] = 'display_data';\n",
              "          await google.colab.output.renderOutput(dataTable, element);\n",
              "          const docLink = document.createElement('div');\n",
              "          docLink.innerHTML = docLinkHtml;\n",
              "          element.appendChild(docLink);\n",
              "        }\n",
              "      </script>\n",
              "    </div>\n",
              "  </div>\n",
              "  "
            ]
          },
          "metadata": {},
          "execution_count": 42
        }
      ]
    },
    {
      "cell_type": "code",
      "source": [
        "sns.countplot(df['current_state'], palette='Greens')"
      ],
      "metadata": {
        "id": "pSTBqDoHnlEu",
        "outputId": "2100a962-3af8-484b-b2d2-0ce9e053783e",
        "colab": {
          "base_uri": "https://localhost:8080/",
          "height": 352
        }
      },
      "execution_count": 43,
      "outputs": [
        {
          "output_type": "stream",
          "name": "stderr",
          "text": [
            "/usr/local/lib/python3.7/dist-packages/seaborn/_decorators.py:43: FutureWarning: Pass the following variable as a keyword arg: x. From version 0.12, the only valid positional argument will be `data`, and passing other arguments without an explicit keyword will result in an error or misinterpretation.\n",
            "  FutureWarning\n"
          ]
        },
        {
          "output_type": "execute_result",
          "data": {
            "text/plain": [
              "<matplotlib.axes._subplots.AxesSubplot at 0x7fc25933e5d0>"
            ]
          },
          "metadata": {},
          "execution_count": 43
        },
        {
          "output_type": "display_data",
          "data": {
            "text/plain": [
              "<Figure size 432x288 with 1 Axes>"
            ],
            "image/png": "[encoded data removed]"
          },
          "metadata": {
            "needs_background": "light"
          }
        }
      ]
    },
    {
      "cell_type": "code",
      "source": [
        "sns.countplot(df['hero_class'], palette='Greens') # move to hero clasess"
      ],
      "metadata": {
        "id": "P3hko4Og8S6V",
        "outputId": "eb92bfb9-20b8-4913-fe53-c0ec53b50276",
        "colab": {
          "base_uri": "https://localhost:8080/",
          "height": 352
        }
      },
      "execution_count": 44,
      "outputs": [
        {
          "output_type": "stream",
          "name": "stderr",
          "text": [
            "/usr/local/lib/python3.7/dist-packages/seaborn/_decorators.py:43: FutureWarning: Pass the following variable as a keyword arg: x. From version 0.12, the only valid positional argument will be `data`, and passing other arguments without an explicit keyword will result in an error or misinterpretation.\n",
            "  FutureWarning\n"
          ]
        },
        {
          "output_type": "execute_result",
          "data": {
            "text/plain": [
              "<matplotlib.axes._subplots.AxesSubplot at 0x7fc259305210>"
            ]
          },
          "metadata": {},
          "execution_count": 44
        },
        {
          "output_type": "display_data",
          "data": {
            "text/plain": [
              "<Figure size 432x288 with 1 Axes>"
            ],
            "image/png": "[encoded data removed]"
          },
          "metadata": {
            "needs_background": "light"
          }
        }
      ]
    },
    {
      "cell_type": "markdown",
      "source": [
        "## Data pre-processing"
      ],
      "metadata": {
        "id": "MxDOhZr3hqvb"
      }
    },
    {
      "cell_type": "code",
      "source": [
        "df = df.loc[df[\"name\"] != \"Jane Doe\" ]"
      ],
      "metadata": {
        "id": "BLIONm8RhYXg"
      },
      "execution_count": null,
      "outputs": []
    },
    {
      "cell_type": "markdown",
      "source": [
        "I am deleting this row, because the row is for testing"
      ],
      "metadata": {
        "id": "V_I2TEt9huJ-"
      }
    },
    {
      "cell_type": "code",
      "source": [
        "df.rename(columns={'_id': 'id'}, inplace=True)"
      ],
      "metadata": {
        "id": "ZFxQbcXOX6_E"
      },
      "execution_count": null,
      "outputs": []
    },
    {
      "cell_type": "code",
      "source": [
        "df.isna().sum()"
      ],
      "metadata": {
        "id": "4H1cqazwYXLa"
      },
      "execution_count": null,
      "outputs": []
    },
    {
      "cell_type": "code",
      "source": [
        "df.plot(x='to_obj', y='energy', kind='scatter')"
      ],
      "metadata": {
        "id": "DvuM2FLaYlTr"
      },
      "execution_count": null,
      "outputs": []
    }
  ]
}